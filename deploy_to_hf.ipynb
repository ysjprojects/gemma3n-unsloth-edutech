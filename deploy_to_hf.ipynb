{
 "cells": [
  {
   "cell_type": "code",
   "execution_count": null,
   "id": "308dd121",
   "metadata": {},
   "outputs": [
    {
     "name": "stdout",
     "output_type": "stream",
     "text": [
      "🦥 Unsloth: Will patch your computer to enable 2x faster free finetuning.\n"
     ]
    },
    {
     "name": "stderr",
     "output_type": "stream",
     "text": [
      "/root/miniconda3/envs/dev/lib/python3.12/site-packages/tqdm/auto.py:21: TqdmWarning: IProgress not found. Please update jupyter and ipywidgets. See https://ipywidgets.readthedocs.io/en/stable/user_install.html\n",
      "  from .autonotebook import tqdm as notebook_tqdm\n"
     ]
    },
    {
     "name": "stdout",
     "output_type": "stream",
     "text": [
      "🦥 Unsloth Zoo will now patch everything to make training faster!\n",
      "INFO 08-06 01:56:24 [__init__.py:235] Automatically detected platform cuda.\n",
      "==((====))==  Unsloth 2025.8.1: Fast Gemma3N patching. Transformers: 4.54.1. vLLM: 0.10.0.\n",
      "   \\\\   /|    NVIDIA A100 80GB PCIe. Num GPUs = 1. Max memory: 79.151 GB. Platform: Linux.\n",
      "O^O/ \\_/ \\    Torch: 2.7.1+cu126. CUDA: 8.0. CUDA Toolkit: 12.6. Triton: 3.3.1\n",
      "\\        /    Bfloat16 = TRUE. FA [Xformers = 0.0.31. FA2 = False]\n",
      " \"-____-\"     Free license: http://github.com/unslothai/unsloth\n",
      "Unsloth: Fast downloading is enabled - ignore downloading bars which are red colored!\n",
      "Unsloth: Gemma3N does not support SDPA - switching to eager!\n"
     ]
    },
    {
     "name": "stderr",
     "output_type": "stream",
     "text": [
      "Loading checkpoint shards: 100%|██████████| 4/4 [00:13<00:00,  3.40s/it]\n",
      "100%|██████████| 3/3 [00:17<00:00,  5.81s/it]\n"
     ]
    },
    {
     "name": "stdout",
     "output_type": "stream",
     "text": [
      "Saved model to https://huggingface.co/tensorplex-labs/gssgemma-3n-E4B-it_sft\n"
     ]
    },
    {
     "ename": "",
     "evalue": "",
     "output_type": "error",
     "traceback": [
      "\u001b[1;31mThe Kernel crashed while executing code in the current cell or a previous cell. \n",
      "\u001b[1;31mPlease review the code in the cell(s) to identify a possible cause of the failure. \n",
      "\u001b[1;31mClick <a href='https://aka.ms/vscodeJupyterKernelCrash'>here</a> for more info. \n",
      "\u001b[1;31mView Jupyter <a href='command:jupyter.viewOutput'>log</a> for further details."
     ]
    }
   ],
   "source": [
    "from unsloth import FastLanguageModel\n",
    "\n",
    "MODEL_NAME_OR_PATH = \"/data/gemma3n-unsloth-edutech/models/merged/sft_lora-r-16_gemma-3n-E4B-it\"\n",
    "HF_REPO_NAME = \"tensorplex-labs/gssgemma-3n-E4B-it_sft\"\n",
    "model, tokenizer = FastLanguageModel.from_pretrained(\n",
    "    model_name = MODEL_NAME_OR_PATH,\n",
    "    max_seq_length = 32768,\n",
    "    load_in_4bit = True,\n",
    ")\n",
    "\n",
    "model.push_to_hub(HF_REPO_NAME, private=True)"
   ]
  },
  {
   "cell_type": "code",
   "execution_count": 1,
   "id": "34efa59a",
   "metadata": {},
   "outputs": [
    {
     "name": "stdout",
     "output_type": "stream",
     "text": [
      "🦥 Unsloth: Will patch your computer to enable 2x faster free finetuning.\n"
     ]
    },
    {
     "name": "stderr",
     "output_type": "stream",
     "text": [
      "/root/miniconda3/envs/dev/lib/python3.12/site-packages/tqdm/auto.py:21: TqdmWarning: IProgress not found. Please update jupyter and ipywidgets. See https://ipywidgets.readthedocs.io/en/stable/user_install.html\n",
      "  from .autonotebook import tqdm as notebook_tqdm\n"
     ]
    },
    {
     "name": "stdout",
     "output_type": "stream",
     "text": [
      "🦥 Unsloth Zoo will now patch everything to make training faster!\n",
      "INFO 08-06 16:48:44 [__init__.py:235] Automatically detected platform cuda.\n",
      "==((====))==  Unsloth 2025.8.1: Fast Gemma3N patching. Transformers: 4.54.1. vLLM: 0.10.0.\n",
      "   \\\\   /|    NVIDIA A100 80GB PCIe. Num GPUs = 1. Max memory: 79.151 GB. Platform: Linux.\n",
      "O^O/ \\_/ \\    Torch: 2.7.1+cu126. CUDA: 8.0. CUDA Toolkit: 12.6. Triton: 3.3.1\n",
      "\\        /    Bfloat16 = TRUE. FA [Xformers = 0.0.31. FA2 = False]\n",
      " \"-____-\"     Free license: http://github.com/unslothai/unsloth\n",
      "Unsloth: Fast downloading is enabled - ignore downloading bars which are red colored!\n",
      "Unsloth: Gemma3N does not support SDPA - switching to eager!\n"
     ]
    },
    {
     "name": "stderr",
     "output_type": "stream",
     "text": [
      "Loading checkpoint shards: 100%|██████████| 4/4 [00:21<00:00,  5.36s/it]\n",
      "100%|██████████| 3/3 [00:20<00:00,  6.71s/it]\n"
     ]
    },
    {
     "name": "stdout",
     "output_type": "stream",
     "text": [
      "Saved model to https://huggingface.co/tensorplex-labs/gssgemma-3n-E4B-it_dpo\n"
     ]
    }
   ],
   "source": [
    "from unsloth import FastLanguageModel\n",
    "\n",
    "MODEL_NAME_OR_PATH = \"/data/gemma3n-unsloth-edutech/models/dpo_lora-r-64_gemma-3n-E4B-it\"\n",
    "HF_REPO_NAME = \"tensorplex-labs/gssgemma-3n-E4B-it_dpo\"\n",
    "model, tokenizer = FastLanguageModel.from_pretrained(\n",
    "    model_name = MODEL_NAME_OR_PATH,\n",
    "    max_seq_length = 32768,\n",
    "    load_in_4bit = True,\n",
    ")\n",
    "\n",
    "model.push_to_hub(HF_REPO_NAME, private=True)"
   ]
  },
  {
   "cell_type": "markdown",
   "id": "8a709a9e",
   "metadata": {},
   "source": [
    "# Deploy Datasets"
   ]
  },
  {
   "cell_type": "code",
   "execution_count": 3,
   "id": "a15f9412",
   "metadata": {},
   "outputs": [
    {
     "name": "stderr",
     "output_type": "stream",
     "text": [
      "Generating train split: 0 examples [00:00, ? examples/s]"
     ]
    },
    {
     "name": "stderr",
     "output_type": "stream",
     "text": [
      "Generating train split: 10000 examples [00:01, 8286.82 examples/s]\n",
      "Creating parquet from Arrow format: 100%|██████████| 10/10 [00:00<00:00, 41.84ba/s]\n",
      "Uploading the dataset shards: 100%|██████████| 1/1 [00:01<00:00,  1.35s/it]\n"
     ]
    },
    {
     "name": "stdout",
     "output_type": "stream",
     "text": [
      "Dataset successfully pushed to tensorplex-labs/gss-instruction-following\n"
     ]
    }
   ],
   "source": [
    "# Import the main function from the datasets library\n",
    "from datasets import load_dataset\n",
    "\n",
    "# 1. Define your dataset repository ID\n",
    "# This will be your username and a new dataset name, e.g., \"username/my-cool-dataset\"\n",
    "repo_id = \"tensorplex-labs/gss-instruction-following\" \n",
    "\n",
    "# 2. Load your local JSON file\n",
    "# The 'json' argument specifies the file type.\n",
    "# The `data_files` argument points to your file.\n",
    "# This creates a 'train' split by default.\n",
    "my_dataset = load_dataset('json', data_files='data_processed/sft_dataset_10k.json')\n",
    "\n",
    "# 3. Push the dataset to the Hugging Face Hub\n",
    "# The repo_id created in step 1 is used here.\n",
    "# Set private=True if you want the dataset to be private.\n",
    "my_dataset.push_to_hub(repo_id)\n",
    "\n",
    "print(f\"Dataset successfully pushed to {repo_id}\")"
   ]
  },
  {
   "cell_type": "markdown",
   "id": "b4cdcc7d",
   "metadata": {},
   "source": []
  },
  {
   "cell_type": "code",
   "execution_count": 2,
   "id": "8ce77355",
   "metadata": {},
   "outputs": [
    {
     "name": "stderr",
     "output_type": "stream",
     "text": [
      "Creating parquet from Arrow format: 100%|██████████| 5/5 [00:00<00:00, 10.68ba/s]\n",
      "Uploading the dataset shards: 100%|██████████| 1/1 [00:01<00:00,  1.53s/it]\n"
     ]
    },
    {
     "name": "stdout",
     "output_type": "stream",
     "text": [
      "Dataset successfully pushed to tensorplex-labs/gss-preference\n"
     ]
    }
   ],
   "source": [
    "# Import the main function from the datasets library\n",
    "from datasets import load_dataset\n",
    "\n",
    "# 1. Define your dataset repository ID\n",
    "# This will be your username and a new dataset name, e.g., \"username/my-cool-dataset\"\n",
    "repo_id = \"tensorplex-labs/gss-preference\" \n",
    "\n",
    "# 2. Load your local JSON file\n",
    "# The 'json' argument specifies the file type.\n",
    "# The `data_files` argument points to your file.\n",
    "# This creates a 'train' split by default.\n",
    "my_dataset = load_dataset('json', data_files='data_processed/dpo_dataset.json')\n",
    "\n",
    "# 3. Push the dataset to the Hugging Face Hub\n",
    "# The repo_id created in step 1 is used here.\n",
    "# Set private=True if you want the dataset to be private.\n",
    "my_dataset.push_to_hub(repo_id)\n",
    "\n",
    "print(f\"Dataset successfully pushed to {repo_id}\")"
   ]
  }
 ],
 "metadata": {
  "kernelspec": {
   "display_name": "dev",
   "language": "python",
   "name": "python3"
  },
  "language_info": {
   "codemirror_mode": {
    "name": "ipython",
    "version": 3
   },
   "file_extension": ".py",
   "mimetype": "text/x-python",
   "name": "python",
   "nbconvert_exporter": "python",
   "pygments_lexer": "ipython3",
   "version": "3.12.11"
  }
 },
 "nbformat": 4,
 "nbformat_minor": 5
}
